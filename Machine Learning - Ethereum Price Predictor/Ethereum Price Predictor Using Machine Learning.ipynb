{
 "cells": [
  {
   "cell_type": "code",
   "execution_count": 1,
   "id": "b638a888",
   "metadata": {},
   "outputs": [],
   "source": [
    "import pandas as pd\n",
    "import matplotlib.pyplot as plt\n",
    "from urllib.request import Request, urlopen"
   ]
  },
  {
   "cell_type": "code",
   "execution_count": 2,
   "id": "736ac336",
   "metadata": {},
   "outputs": [],
   "source": [
    "price_url = \"https://etherscan.io/chart/etherprice?output=csv\"\n",
    "market_capitalization_url = \"https://etherscan.io/chart/marketcap?output=csv\"\n",
    "supply_growth_url = \"https://etherscan.io/chart/ethersupplygrowth?output=csv\"\n",
    "daily_transactions_url = \"https://etherscan.io/chart/tx?output=csv\"\n",
    "daily_token_transfer_url = \"https://etherscan.io/chart/tokenerc-20txns?output=csv\"\n",
    "unique_address_url = \"https://etherscan.io/chart/address?output=csv\"\n",
    "avg_block_size_url = \"https://etherscan.io/chart/blocksize?output=csv\"\n",
    "avg_block_time_url = \"https://etherscan.io/chart/blocktime?output=csv\"\n",
    "avg_gas_price_url = \"https://etherscan.io/chart/gasprice?output=csv\"\n",
    "avg_gas_limit_url = \"https://etherscan.io/chart/gaslimit?output=csv\"\n",
    "daily_gas_used_url = \"https://etherscan.io/chart/gasused?output=csv\"\n",
    "daily_block_reward_url = \"https://etherscan.io/chart/blockreward?output=csv\"\n",
    "block_count_rewards_url = \"https://etherscan.io/chart/blocks?output=csv\"\n",
    "uncle_count_rewards_url = \"https://etherscan.io/chart/uncles?output=csv\"\n",
    "net_hashrte_url = \"https://etherscan.io/chart/hashrate?output=csv\"\n",
    "net_difficulty_url = \"https://etherscan.io/chart/difficulty?output=csv\"\n",
    "pending_transactions_url = \"https://etherscan.io/chart/pendingtx?output=csv\"\n",
    "net_transaction_fee_url = \"https://etherscan.io/chart/transactionfee?output=csv\"\n",
    "net_utilization_url = \"https://etherscan.io/chart/networkutilization?output=csv\"\n",
    "daily_verified_contracts_url = \"https://etherscan.io/chart/verified-contracts?output=csv\""
   ]
  },
  {
   "cell_type": "code",
   "execution_count": 3,
   "id": "a53742a1",
   "metadata": {},
   "outputs": [],
   "source": [
    "def read_data(url):\n",
    "  req = Request(url)\n",
    "  req.add_header('User-Agent', 'Mozilla/5.0 (X11; Ubuntu; Linux x86_64; rv:77.0) Gecko/20100101 Firefox/77.0')\n",
    "  content = urlopen(req)\n",
    "\n",
    "  return pd.read_csv(content)\n",
    "url_list = [\n",
    "              (\"price\", price_url),\n",
    "              (\"market cap.\", market_capitalization_url),\n",
    "              (\"supply growth\", supply_growth_url),\n",
    "              (\"daily trans.\", daily_transactions_url),\n",
    "              (\"daily token trans.\", daily_token_transfer_url),\n",
    "              (\"uniq. address\", unique_address_url),\n",
    "              (\"avg blk size\", avg_block_size_url),\n",
    "              (\"avg blk time\", avg_block_time_url),\n",
    "              (\"avg gas price\", avg_gas_price_url),\n",
    "              (\"avg gas limit\", avg_gas_limit_url),\n",
    "              (\"daily gas used\", daily_gas_used_url),\n",
    "              (\"daily blk reward\", daily_block_reward_url),\n",
    "              (\"blk count reward\", block_count_rewards_url),\n",
    "              (\"uncle count reward\", uncle_count_rewards_url),\n",
    "              (\"net hashrte\", net_hashrte_url),\n",
    "              (\"net diff.\", net_difficulty_url),\n",
    "              # (\"pending trans.\", pending_transactions_url),\n",
    "              (\"net trans. fee\", net_transaction_fee_url),\n",
    "              (\"net util.\", net_utilization_url),\n",
    "              # (\"daily verified contracts\", daily_verified_contracts_url),\n",
    "]\n"
   ]
  },
  {
   "cell_type": "code",
   "execution_count": 4,
   "id": "c69297ca",
   "metadata": {},
   "outputs": [
    {
     "name": "stderr",
     "output_type": "stream",
     "text": [
      "C:\\Users\\jcsar\\AppData\\Local\\Temp/ipykernel_4252/2662321159.py:7: FutureWarning: In a future version of pandas all arguments of DataFrame.drop except for the argument 'labels' will be keyword-only\n",
      "  df = df.drop(\"UnixTimeStamp\", 1)\n"
     ]
    }
   ],
   "source": [
    "df_list = []\n",
    "for column_name, url in url_list:\n",
    "  df = read_data(url)\n",
    "  df[\"Date(UTC)\"] = pd.to_datetime(df[\"Date(UTC)\"]).dt.strftime('%m/%d/%Y')\n",
    "\n",
    "  if \"UnixTimeStamp\" in df.columns:\n",
    "    df = df.drop(\"UnixTimeStamp\", 1)\n",
    "    \n",
    "  if \"Value\" in df.columns:\n",
    "    df = df.rename(columns={\"Value\": column_name})\n",
    "\n",
    "  df_list.append(df)\n",
    "from functools import reduce\n"
   ]
  },
  {
   "cell_type": "code",
   "execution_count": 5,
   "id": "40b2d0db",
   "metadata": {},
   "outputs": [
    {
     "data": {
      "text/html": [
       "<div>\n",
       "<style scoped>\n",
       "    .dataframe tbody tr th:only-of-type {\n",
       "        vertical-align: middle;\n",
       "    }\n",
       "\n",
       "    .dataframe tbody tr th {\n",
       "        vertical-align: top;\n",
       "    }\n",
       "\n",
       "    .dataframe thead th {\n",
       "        text-align: right;\n",
       "    }\n",
       "</style>\n",
       "<table border=\"1\" class=\"dataframe\">\n",
       "  <thead>\n",
       "    <tr style=\"text-align: right;\">\n",
       "      <th></th>\n",
       "      <th>Date(UTC)</th>\n",
       "      <th>price</th>\n",
       "      <th>Supply</th>\n",
       "      <th>MarketCap</th>\n",
       "      <th>Price</th>\n",
       "      <th>supply growth</th>\n",
       "      <th>daily trans.</th>\n",
       "      <th>No. of ERC20 Token Transfers</th>\n",
       "      <th>uniq. address</th>\n",
       "      <th>avg blk size</th>\n",
       "      <th>...</th>\n",
       "      <th>avg gas price</th>\n",
       "      <th>avg gas limit</th>\n",
       "      <th>daily gas used</th>\n",
       "      <th>daily blk reward</th>\n",
       "      <th>blk count reward</th>\n",
       "      <th>uncle count reward</th>\n",
       "      <th>net hashrte</th>\n",
       "      <th>net diff.</th>\n",
       "      <th>net trans. fee</th>\n",
       "      <th>net util.</th>\n",
       "    </tr>\n",
       "  </thead>\n",
       "  <tbody>\n",
       "    <tr>\n",
       "      <th>0</th>\n",
       "      <td>07/30/2015</td>\n",
       "      <td>0.00</td>\n",
       "      <td>7.204931e+07</td>\n",
       "      <td>0.000000</td>\n",
       "      <td>0.00</td>\n",
       "      <td>7.204931e+07</td>\n",
       "      <td>8893</td>\n",
       "      <td>0</td>\n",
       "      <td>9205</td>\n",
       "      <td>644</td>\n",
       "      <td>...</td>\n",
       "      <td>0</td>\n",
       "      <td>0</td>\n",
       "      <td>0</td>\n",
       "      <td>39316.09375</td>\n",
       "      <td>6912</td>\n",
       "      <td>1299</td>\n",
       "      <td>1.152970e+01</td>\n",
       "      <td>0.121</td>\n",
       "      <td>0</td>\n",
       "      <td>0.0000</td>\n",
       "    </tr>\n",
       "    <tr>\n",
       "      <th>1</th>\n",
       "      <td>07/31/2015</td>\n",
       "      <td>0.00</td>\n",
       "      <td>7.208550e+07</td>\n",
       "      <td>0.000000</td>\n",
       "      <td>0.00</td>\n",
       "      <td>7.208550e+07</td>\n",
       "      <td>0</td>\n",
       "      <td>0</td>\n",
       "      <td>9361</td>\n",
       "      <td>582</td>\n",
       "      <td>...</td>\n",
       "      <td>0</td>\n",
       "      <td>0</td>\n",
       "      <td>0</td>\n",
       "      <td>36191.71875</td>\n",
       "      <td>6863</td>\n",
       "      <td>511</td>\n",
       "      <td>5.145940e+01</td>\n",
       "      <td>0.603</td>\n",
       "      <td>0</td>\n",
       "      <td>0.0000</td>\n",
       "    </tr>\n",
       "    <tr>\n",
       "      <th>2</th>\n",
       "      <td>08/01/2015</td>\n",
       "      <td>0.00</td>\n",
       "      <td>7.211320e+07</td>\n",
       "      <td>0.000000</td>\n",
       "      <td>0.00</td>\n",
       "      <td>7.211320e+07</td>\n",
       "      <td>0</td>\n",
       "      <td>0</td>\n",
       "      <td>9476</td>\n",
       "      <td>575</td>\n",
       "      <td>...</td>\n",
       "      <td>0</td>\n",
       "      <td>0</td>\n",
       "      <td>0</td>\n",
       "      <td>27705.93750</td>\n",
       "      <td>5293</td>\n",
       "      <td>334</td>\n",
       "      <td>5.778450e+01</td>\n",
       "      <td>0.887</td>\n",
       "      <td>0</td>\n",
       "      <td>0.0000</td>\n",
       "    </tr>\n",
       "    <tr>\n",
       "      <th>3</th>\n",
       "      <td>08/02/2015</td>\n",
       "      <td>0.00</td>\n",
       "      <td>7.214143e+07</td>\n",
       "      <td>0.000000</td>\n",
       "      <td>0.00</td>\n",
       "      <td>7.214143e+07</td>\n",
       "      <td>0</td>\n",
       "      <td>0</td>\n",
       "      <td>9563</td>\n",
       "      <td>581</td>\n",
       "      <td>...</td>\n",
       "      <td>0</td>\n",
       "      <td>0</td>\n",
       "      <td>0</td>\n",
       "      <td>28223.43750</td>\n",
       "      <td>5358</td>\n",
       "      <td>394</td>\n",
       "      <td>6.792240e+01</td>\n",
       "      <td>1.020</td>\n",
       "      <td>0</td>\n",
       "      <td>0.0000</td>\n",
       "    </tr>\n",
       "    <tr>\n",
       "      <th>4</th>\n",
       "      <td>08/03/2015</td>\n",
       "      <td>0.00</td>\n",
       "      <td>7.216940e+07</td>\n",
       "      <td>0.000000</td>\n",
       "      <td>0.00</td>\n",
       "      <td>7.216940e+07</td>\n",
       "      <td>0</td>\n",
       "      <td>0</td>\n",
       "      <td>9639</td>\n",
       "      <td>587</td>\n",
       "      <td>...</td>\n",
       "      <td>0</td>\n",
       "      <td>0</td>\n",
       "      <td>0</td>\n",
       "      <td>27976.71875</td>\n",
       "      <td>5280</td>\n",
       "      <td>443</td>\n",
       "      <td>7.457370e+01</td>\n",
       "      <td>1.126</td>\n",
       "      <td>0</td>\n",
       "      <td>0.0000</td>\n",
       "    </tr>\n",
       "    <tr>\n",
       "      <th>...</th>\n",
       "      <td>...</td>\n",
       "      <td>...</td>\n",
       "      <td>...</td>\n",
       "      <td>...</td>\n",
       "      <td>...</td>\n",
       "      <td>...</td>\n",
       "      <td>...</td>\n",
       "      <td>...</td>\n",
       "      <td>...</td>\n",
       "      <td>...</td>\n",
       "      <td>...</td>\n",
       "      <td>...</td>\n",
       "      <td>...</td>\n",
       "      <td>...</td>\n",
       "      <td>...</td>\n",
       "      <td>...</td>\n",
       "      <td>...</td>\n",
       "      <td>...</td>\n",
       "      <td>...</td>\n",
       "      <td>...</td>\n",
       "      <td>...</td>\n",
       "    </tr>\n",
       "    <tr>\n",
       "      <th>2492</th>\n",
       "      <td>05/26/2022</td>\n",
       "      <td>1791.00</td>\n",
       "      <td>1.209364e+08</td>\n",
       "      <td>216597.056748</td>\n",
       "      <td>1,791.00</td>\n",
       "      <td>1.191609e+08</td>\n",
       "      <td>1071180</td>\n",
       "      <td>498276</td>\n",
       "      <td>197215341</td>\n",
       "      <td>112811</td>\n",
       "      <td>...</td>\n",
       "      <td>51376731735</td>\n",
       "      <td>29997359</td>\n",
       "      <td>94097522333</td>\n",
       "      <td>12825.25000</td>\n",
       "      <td>6092</td>\n",
       "      <td>364</td>\n",
       "      <td>1.064457e+06</td>\n",
       "      <td>14245.515</td>\n",
       "      <td>677828608265622505753</td>\n",
       "      <td>0.5149</td>\n",
       "    </tr>\n",
       "    <tr>\n",
       "      <th>2493</th>\n",
       "      <td>05/27/2022</td>\n",
       "      <td>1724.73</td>\n",
       "      <td>1.209494e+08</td>\n",
       "      <td>208605.051386</td>\n",
       "      <td>1,724.73</td>\n",
       "      <td>1.191718e+08</td>\n",
       "      <td>1093469</td>\n",
       "      <td>511327</td>\n",
       "      <td>197292722</td>\n",
       "      <td>99428</td>\n",
       "      <td>...</td>\n",
       "      <td>45548286421</td>\n",
       "      <td>29996377</td>\n",
       "      <td>95872773180</td>\n",
       "      <td>13015.68750</td>\n",
       "      <td>6218</td>\n",
       "      <td>327</td>\n",
       "      <td>1.103869e+06</td>\n",
       "      <td>14572.081</td>\n",
       "      <td>643553662769716640496</td>\n",
       "      <td>0.5140</td>\n",
       "    </tr>\n",
       "    <tr>\n",
       "      <th>2494</th>\n",
       "      <td>05/28/2022</td>\n",
       "      <td>1790.79</td>\n",
       "      <td>1.209623e+08</td>\n",
       "      <td>216618.047165</td>\n",
       "      <td>1,790.79</td>\n",
       "      <td>1.191845e+08</td>\n",
       "      <td>1069802</td>\n",
       "      <td>508402</td>\n",
       "      <td>197378453</td>\n",
       "      <td>96247</td>\n",
       "      <td>...</td>\n",
       "      <td>23604617235</td>\n",
       "      <td>29999373</td>\n",
       "      <td>95084172922</td>\n",
       "      <td>12887.43750</td>\n",
       "      <td>6166</td>\n",
       "      <td>311</td>\n",
       "      <td>1.071542e+06</td>\n",
       "      <td>14293.848</td>\n",
       "      <td>412407688341884392997</td>\n",
       "      <td>0.5140</td>\n",
       "    </tr>\n",
       "    <tr>\n",
       "      <th>2495</th>\n",
       "      <td>05/29/2022</td>\n",
       "      <td>1811.69</td>\n",
       "      <td>1.209752e+08</td>\n",
       "      <td>219169.487677</td>\n",
       "      <td>1,811.69</td>\n",
       "      <td>1.191971e+08</td>\n",
       "      <td>1065407</td>\n",
       "      <td>452727</td>\n",
       "      <td>197473739</td>\n",
       "      <td>112140</td>\n",
       "      <td>...</td>\n",
       "      <td>24161086427</td>\n",
       "      <td>29998745</td>\n",
       "      <td>95178248082</td>\n",
       "      <td>12876.81250</td>\n",
       "      <td>6157</td>\n",
       "      <td>317</td>\n",
       "      <td>1.088666e+06</td>\n",
       "      <td>14528.994</td>\n",
       "      <td>405505002686422664234</td>\n",
       "      <td>0.5153</td>\n",
       "    </tr>\n",
       "    <tr>\n",
       "      <th>2496</th>\n",
       "      <td>05/30/2022</td>\n",
       "      <td>1997.64</td>\n",
       "      <td>1.209879e+08</td>\n",
       "      <td>241690.340409</td>\n",
       "      <td>1,997.64</td>\n",
       "      <td>1.192085e+08</td>\n",
       "      <td>1070320</td>\n",
       "      <td>479010</td>\n",
       "      <td>197545723</td>\n",
       "      <td>102688</td>\n",
       "      <td>...</td>\n",
       "      <td>37961721339</td>\n",
       "      <td>30000158</td>\n",
       "      <td>94130139895</td>\n",
       "      <td>12775.93750</td>\n",
       "      <td>6096</td>\n",
       "      <td>327</td>\n",
       "      <td>1.076537e+06</td>\n",
       "      <td>14481.205</td>\n",
       "      <td>562857350249753669037</td>\n",
       "      <td>0.5147</td>\n",
       "    </tr>\n",
       "  </tbody>\n",
       "</table>\n",
       "<p>2497 rows × 21 columns</p>\n",
       "</div>"
      ],
      "text/plain": [
       "       Date(UTC)    price        Supply      MarketCap     Price  \\\n",
       "0     07/30/2015     0.00  7.204931e+07       0.000000      0.00   \n",
       "1     07/31/2015     0.00  7.208550e+07       0.000000      0.00   \n",
       "2     08/01/2015     0.00  7.211320e+07       0.000000      0.00   \n",
       "3     08/02/2015     0.00  7.214143e+07       0.000000      0.00   \n",
       "4     08/03/2015     0.00  7.216940e+07       0.000000      0.00   \n",
       "...          ...      ...           ...            ...       ...   \n",
       "2492  05/26/2022  1791.00  1.209364e+08  216597.056748  1,791.00   \n",
       "2493  05/27/2022  1724.73  1.209494e+08  208605.051386  1,724.73   \n",
       "2494  05/28/2022  1790.79  1.209623e+08  216618.047165  1,790.79   \n",
       "2495  05/29/2022  1811.69  1.209752e+08  219169.487677  1,811.69   \n",
       "2496  05/30/2022  1997.64  1.209879e+08  241690.340409  1,997.64   \n",
       "\n",
       "      supply growth  daily trans.  No. of ERC20 Token Transfers  \\\n",
       "0      7.204931e+07          8893                             0   \n",
       "1      7.208550e+07             0                             0   \n",
       "2      7.211320e+07             0                             0   \n",
       "3      7.214143e+07             0                             0   \n",
       "4      7.216940e+07             0                             0   \n",
       "...             ...           ...                           ...   \n",
       "2492   1.191609e+08       1071180                        498276   \n",
       "2493   1.191718e+08       1093469                        511327   \n",
       "2494   1.191845e+08       1069802                        508402   \n",
       "2495   1.191971e+08       1065407                        452727   \n",
       "2496   1.192085e+08       1070320                        479010   \n",
       "\n",
       "      uniq. address  avg blk size  ...  avg gas price  avg gas limit  \\\n",
       "0              9205           644  ...              0              0   \n",
       "1              9361           582  ...              0              0   \n",
       "2              9476           575  ...              0              0   \n",
       "3              9563           581  ...              0              0   \n",
       "4              9639           587  ...              0              0   \n",
       "...             ...           ...  ...            ...            ...   \n",
       "2492      197215341        112811  ...    51376731735       29997359   \n",
       "2493      197292722         99428  ...    45548286421       29996377   \n",
       "2494      197378453         96247  ...    23604617235       29999373   \n",
       "2495      197473739        112140  ...    24161086427       29998745   \n",
       "2496      197545723        102688  ...    37961721339       30000158   \n",
       "\n",
       "      daily gas used  daily blk reward  blk count reward  uncle count reward  \\\n",
       "0                  0       39316.09375              6912                1299   \n",
       "1                  0       36191.71875              6863                 511   \n",
       "2                  0       27705.93750              5293                 334   \n",
       "3                  0       28223.43750              5358                 394   \n",
       "4                  0       27976.71875              5280                 443   \n",
       "...              ...               ...               ...                 ...   \n",
       "2492     94097522333       12825.25000              6092                 364   \n",
       "2493     95872773180       13015.68750              6218                 327   \n",
       "2494     95084172922       12887.43750              6166                 311   \n",
       "2495     95178248082       12876.81250              6157                 317   \n",
       "2496     94130139895       12775.93750              6096                 327   \n",
       "\n",
       "       net hashrte  net diff.         net trans. fee net util.  \n",
       "0     1.152970e+01      0.121                      0    0.0000  \n",
       "1     5.145940e+01      0.603                      0    0.0000  \n",
       "2     5.778450e+01      0.887                      0    0.0000  \n",
       "3     6.792240e+01      1.020                      0    0.0000  \n",
       "4     7.457370e+01      1.126                      0    0.0000  \n",
       "...            ...        ...                    ...       ...  \n",
       "2492  1.064457e+06  14245.515  677828608265622505753    0.5149  \n",
       "2493  1.103869e+06  14572.081  643553662769716640496    0.5140  \n",
       "2494  1.071542e+06  14293.848  412407688341884392997    0.5140  \n",
       "2495  1.088666e+06  14528.994  405505002686422664234    0.5153  \n",
       "2496  1.076537e+06  14481.205  562857350249753669037    0.5147  \n",
       "\n",
       "[2497 rows x 21 columns]"
      ]
     },
     "execution_count": 5,
     "metadata": {},
     "output_type": "execute_result"
    }
   ],
   "source": [
    "df_total = reduce(lambda df1, df2: pd.merge(df1, df2, on='Date(UTC)'), df_list)\n",
    "df_total = df_total.rename(columns={\"Value (Wei)\": \"avg gas price\"})\n",
    "df_total"
   ]
  },
  {
   "cell_type": "code",
   "execution_count": 6,
   "id": "e6c35191",
   "metadata": {},
   "outputs": [
    {
     "name": "stdout",
     "output_type": "stream",
     "text": [
      "<class 'pandas.core.frame.DataFrame'>\n",
      "Int64Index: 2497 entries, 0 to 2496\n",
      "Data columns (total 21 columns):\n",
      " #   Column                        Non-Null Count  Dtype  \n",
      "---  ------                        --------------  -----  \n",
      " 0   Date(UTC)                     2497 non-null   object \n",
      " 1   price                         2497 non-null   float64\n",
      " 2   Supply                        2497 non-null   float64\n",
      " 3   MarketCap                     2497 non-null   float64\n",
      " 4   Price                         2497 non-null   object \n",
      " 5   supply growth                 2497 non-null   float64\n",
      " 6   daily trans.                  2497 non-null   int64  \n",
      " 7   No. of ERC20 Token Transfers  2497 non-null   int64  \n",
      " 8   uniq. address                 2497 non-null   int64  \n",
      " 9   avg blk size                  2497 non-null   int64  \n",
      " 10  avg blk time                  2497 non-null   float64\n",
      " 11  avg gas price                 2497 non-null   int64  \n",
      " 12  avg gas limit                 2497 non-null   int64  \n",
      " 13  daily gas used                2497 non-null   int64  \n",
      " 14  daily blk reward              2497 non-null   float64\n",
      " 15  blk count reward              2497 non-null   int64  \n",
      " 16  uncle count reward            2497 non-null   int64  \n",
      " 17  net hashrte                   2497 non-null   float64\n",
      " 18  net diff.                     2497 non-null   float64\n",
      " 19  net trans. fee                2497 non-null   object \n",
      " 20  net util.                     2497 non-null   float64\n",
      "dtypes: float64(9), int64(9), object(3)\n",
      "memory usage: 429.2+ KB\n"
     ]
    }
   ],
   "source": [
    "df_total.info()"
   ]
  },
  {
   "cell_type": "code",
   "execution_count": 7,
   "id": "fb53ab7d",
   "metadata": {},
   "outputs": [
    {
     "data": {
      "image/png": "[encoded data removed]",
      "text/plain": [
       "<Figure size 432x288 with 1 Axes>"
      ]
     },
     "metadata": {
      "needs_background": "light"
     },
     "output_type": "display_data"
    }
   ],
   "source": [
    "df_total[\"price\"].plot()\n",
    "plt.show()"
   ]
  },
  {
   "cell_type": "code",
   "execution_count": 8,
   "id": "d5fb1eae",
   "metadata": {},
   "outputs": [],
   "source": [
    "import tensorflow as tf\n",
    "\n",
    "# df_months = pd.to_datetime(df_total[\"Date(UTC)\"]).dt.strftime('%m').astype(\"int16\")\n",
    "# df_days = pd.to_datetime(df_total[\"Date(UTC)\"]).dt.strftime('%d').astype(\"int16\")\n",
    "# months = pd.DataFrame(tf.keras.utils.to_categorical(df_months)[:, 1:], columns=[\"Month \"+str(i) for i in range(1, 13)]).astype(\"int\")\n",
    "# days = pd.DataFrame(tf.keras.utils.to_categorical(df_days)[:, 1:], columns=[\"Day \"+str(i) for i in range(1, 32)]).astype(\"int\")\n",
    "# df_total = pd.concat([df_total, months, days], axis=1)\n",
    "# df_tota"
   ]
  },
  {
   "cell_type": "code",
   "execution_count": 9,
   "id": "2a13bab5",
   "metadata": {},
   "outputs": [],
   "source": [
    "from sklearn.preprocessing import MinMaxScaler\n",
    "import numpy as np\n",
    "\n",
    "series = df_total[[column for column in df_total.columns if column not in [\"Date(UTC)\"]]]\n",
    "series = series.applymap(lambda value: value.replace(\",\", \"\") if type(value) is str else value)\n",
    "series = series.to_numpy()\n",
    "scaler = MinMaxScaler()\n",
    "series = scaler.fit_transform(series)"
   ]
  },
  {
   "cell_type": "code",
   "execution_count": 10,
   "id": "ee3149fd",
   "metadata": {},
   "outputs": [],
   "source": [
    "split_time = 1500\n",
    "\n",
    "time = np.array(df_total.index)\n",
    "time_train = time[:split_time]\n",
    "x_train = series[:split_time]\n",
    "time_valid = time[split_time:]\n",
    "x_valid = series[split_time:]\n",
    "\n",
    "window_size = 90\n",
    "batch_size = 512\n",
    "shuffle_buffer_size = 1000"
   ]
  },
  {
   "cell_type": "code",
   "execution_count": 11,
   "id": "3d5e63bb",
   "metadata": {},
   "outputs": [],
   "source": [
    "def windowed_dataset(series, window_size, batch_size, shuffle_buffer):\n",
    "  dataset = tf.data.Dataset.from_tensor_slices(series)\n",
    "  dataset = dataset.window(window_size + 1, shift=1, drop_remainder=True)\n",
    "  dataset = dataset.flat_map(lambda window: window.batch(window_size + 1))\n",
    "  dataset = dataset.shuffle(shuffle_buffer).map(lambda window: (window[:-1], window[-1][0]))\n",
    "  dataset = dataset.batch(batch_size).prefetch(1)\n",
    "  \n",
    "  return dataset"
   ]
  },
  {
   "cell_type": "code",
   "execution_count": 12,
   "id": "446a1e3d",
   "metadata": {},
   "outputs": [],
   "source": [
    "tf.keras.backend.clear_session()\n",
    "\n",
    "train_set = windowed_dataset(x_train, window_size, batch_size=batch_size, shuffle_buffer=shuffle_buffer_size)"
   ]
  },
  {
   "cell_type": "code",
   "execution_count": 13,
   "id": "7dff548d",
   "metadata": {},
   "outputs": [
    {
     "name": "stdout",
     "output_type": "stream",
     "text": [
      "Model: \"sequential\"\n",
      "_________________________________________________________________\n",
      " Layer (type)                Output Shape              Param #   \n",
      "=================================================================\n",
      " conv1d (Conv1D)             (None, None, 128)         7808      \n",
      "                                                                 \n",
      " conv1d_1 (Conv1D)           (None, None, 64)          24640     \n",
      "                                                                 \n",
      " bidirectional (Bidirectiona  (None, None, 256)        197632    \n",
      " l)                                                              \n",
      "                                                                 \n",
      " bidirectional_1 (Bidirectio  (None, None, 256)        394240    \n",
      " nal)                                                            \n",
      "                                                                 \n",
      " bidirectional_2 (Bidirectio  (None, 256)              394240    \n",
      " nal)                                                            \n",
      "                                                                 \n",
      " dense (Dense)               (None, 128)               32896     \n",
      "                                                                 \n",
      " dense_1 (Dense)             (None, 1)                 129       \n",
      "                                                                 \n",
      "=================================================================\n",
      "Total params: 1,051,585\n",
      "Trainable params: 1,051,585\n",
      "Non-trainable params: 0\n",
      "_________________________________________________________________\n"
     ]
    },
    {
     "name": "stderr",
     "output_type": "stream",
     "text": [
      "C:\\Users\\jcsar\\anaconda3\\lib\\site-packages\\keras\\optimizer_v2\\adam.py:105: UserWarning: The `lr` argument is deprecated, use `learning_rate` instead.\n",
      "  super(Adam, self).__init__(name, **kwargs)\n"
     ]
    },
    {
     "ename": "NameError",
     "evalue": "name 'learning_rate_schedule' is not defined",
     "output_type": "error",
     "traceback": [
      "\u001b[1;31m---------------------------------------------------------------------------\u001b[0m",
      "\u001b[1;31mNameError\u001b[0m                                 Traceback (most recent call last)",
      "\u001b[1;32m~\\AppData\\Local\\Temp/ipykernel_4252/3150449437.py\u001b[0m in \u001b[0;36m<module>\u001b[1;34m\u001b[0m\n\u001b[0;32m     34\u001b[0m \u001b[1;33m\u001b[0m\u001b[0m\n\u001b[0;32m     35\u001b[0m history = model.fit(train_set, epochs=200, callbacks=[\n\u001b[1;32m---> 36\u001b[1;33m                                                       \u001b[0mlearning_rate_schedule\u001b[0m\u001b[1;33m,\u001b[0m\u001b[1;33m\u001b[0m\u001b[1;33m\u001b[0m\u001b[0m\n\u001b[0m\u001b[0;32m     37\u001b[0m                                                       \u001b[1;31m# early_stopping,\u001b[0m\u001b[1;33m\u001b[0m\u001b[1;33m\u001b[0m\u001b[0m\n\u001b[0;32m     38\u001b[0m                                                       ])\n",
      "\u001b[1;31mNameError\u001b[0m: name 'learning_rate_schedule' is not defined"
     ]
    }
   ],
   "source": [
    "model = tf.keras.models.Sequential([\n",
    "  # tf.keras.layers.Lambda(lambda x: tf.expand_dims(x, axis=-1), batch_input_shape=[None, window_size, series.shape[1]]),\n",
    "  # tf.keras.layers.TimeDistributed(tf.keras.layers.Conv1D(filters=32, kernel_size=3), name=\"Conv1d_1\"),\n",
    "  # tf.keras.layers.TimeDistributed(tf.keras.layers.MaxPool1D(pool_size=2), name=\"maxpool_1\"),\n",
    "  # tf.keras.layers.TimeDistributed(tf.keras.layers.Dropout(0.2), name=\"dropout_1\"),\n",
    "  # tf.keras.layers.TimeDistributed(tf.keras.layers.Conv1D(filters=32, kernel_size=3), name=\"Conv1d_2\"),\n",
    "  # tf.keras.layers.TimeDistributed(tf.keras.layers.MaxPool1D(pool_size=2), name=\"maxpool_2\"),\n",
    "  # tf.keras.layers.TimeDistributed(tf.keras.layers.Dropout(0.2), name=\"dropout_2\"),\n",
    "  # tf.keras.layers.TimeDistributed(tf.keras.layers.Flatten(), name=\"flatten\"),\n",
    "  tf.keras.layers.Conv1D(filters=128, kernel_size=3, padding=\"causal\", activation=\"relu\", input_shape=[None, series.shape[1]]),\n",
    "  # tf.keras.layers.MaxPool1D(pool_size=2),\n",
    "  tf.keras.layers.Conv1D(filters=64, kernel_size=3, padding=\"causal\", activation=\"relu\"),\n",
    "  # tf.keras.layers.MaxPool1D(pool_size=2),\n",
    "  # tf.keras.layers.Bidirectional(tf.keras.layers.LSTM(32)),\n",
    "  tf.keras.layers.Bidirectional(tf.keras.layers.LSTM(128, return_sequences=True)),\n",
    "  tf.keras.layers.Bidirectional(tf.keras.layers.LSTM(128, return_sequences=True)),\n",
    "  # tf.keras.layers.Bidirectional(tf.keras.layers.LSTM(32, return_sequences=True)),\n",
    "  tf.keras.layers.Bidirectional(tf.keras.layers.LSTM(128)),\n",
    "  tf.keras.layers.Dense(128, activation=\"relu\"),\n",
    "  tf.keras.layers.Dense(1),\n",
    "  # tf.keras.layers.Lambda(lambda x: x * 100.0)\n",
    "])\n",
    "\n",
    "lr = 0.1\n",
    "lr_schedule = tf.keras.callbacks.LearningRateScheduler(lambda epoch: lr * np.power(0.6, np.floor((1 + epoch)/20)))\n",
    "early_stopping = tf.keras.callbacks.EarlyStopping(monitor=\"mae\", patience=5, restore_best_weights=True)\n",
    "optimizer = tf.keras.optimizers.Adam(lr=lr)\n",
    "# optimizer = tf.keras.optimizers.SGD(lr=lr, momentum=0.9)\n",
    "model.compile(loss=\"mse\",\n",
    "              optimizer=optimizer,\n",
    "              metrics=[\"mae\"])\n",
    "\n",
    "model.summary()\n",
    "\n",
    "history = model.fit(train_set, epochs=200, callbacks=[\n",
    "                                                      learning_rate_schedule, \n",
    "                                                      # early_stopping,\n",
    "                                                      ])"
   ]
  },
  {
   "cell_type": "code",
   "execution_count": 14,
   "id": "d021f958",
   "metadata": {},
   "outputs": [
    {
     "data": {
      "text/plain": [
       "[<matplotlib.lines.Line2D at 0x27049d96d30>]"
      ]
     },
     "execution_count": 14,
     "metadata": {},
     "output_type": "execute_result"
    },
    {
     "data": {
      "image/png": "[encoded data removed]",
      "text/plain": [
       "<Figure size 432x288 with 1 Axes>"
      ]
     },
     "metadata": {
      "needs_background": "light"
     },
     "output_type": "display_data"
    }
   ],
   "source": [
    "plt.plot(np.arange(200), 0.1*np.power(0.6, np.floor((1 + np.arange(200))/20)))"
   ]
  },
  {
   "cell_type": "code",
   "execution_count": 15,
   "id": "9b913936",
   "metadata": {},
   "outputs": [
    {
     "ename": "NameError",
     "evalue": "name 'history' is not defined",
     "output_type": "error",
     "traceback": [
      "\u001b[1;31m---------------------------------------------------------------------------\u001b[0m",
      "\u001b[1;31mNameError\u001b[0m                                 Traceback (most recent call last)",
      "\u001b[1;32m~\\AppData\\Local\\Temp/ipykernel_4252/646380771.py\u001b[0m in \u001b[0;36m<module>\u001b[1;34m\u001b[0m\n\u001b[1;32m----> 1\u001b[1;33m \u001b[0mplt\u001b[0m\u001b[1;33m.\u001b[0m\u001b[0msemilogx\u001b[0m\u001b[1;33m(\u001b[0m\u001b[0mhistory\u001b[0m\u001b[1;33m.\u001b[0m\u001b[0mhistory\u001b[0m\u001b[1;33m[\u001b[0m\u001b[1;34m\"lr\"\u001b[0m\u001b[1;33m]\u001b[0m\u001b[1;33m,\u001b[0m \u001b[0mhistory\u001b[0m\u001b[1;33m.\u001b[0m\u001b[0mhistory\u001b[0m\u001b[1;33m[\u001b[0m\u001b[1;34m\"loss\"\u001b[0m\u001b[1;33m]\u001b[0m\u001b[1;33m)\u001b[0m\u001b[1;33m\u001b[0m\u001b[1;33m\u001b[0m\u001b[0m\n\u001b[0m\u001b[0;32m      2\u001b[0m \u001b[0mplt\u001b[0m\u001b[1;33m.\u001b[0m\u001b[0mshow\u001b[0m\u001b[1;33m(\u001b[0m\u001b[1;33m)\u001b[0m\u001b[1;33m\u001b[0m\u001b[1;33m\u001b[0m\u001b[0m\n",
      "\u001b[1;31mNameError\u001b[0m: name 'history' is not defined"
     ]
    }
   ],
   "source": [
    "plt.semilogx(history.history[\"lr\"], history.history[\"loss\"])\n",
    "plt.show()"
   ]
  },
  {
   "cell_type": "code",
   "execution_count": 16,
   "id": "51e074d2",
   "metadata": {},
   "outputs": [],
   "source": [
    "def plot_series(time, series, label, format=\"-\", start=0, end=None):\n",
    "    plt.plot(time[start:end], series[start:end], format, label=label)\n",
    "    plt.xlabel(\"Time\")\n",
    "    plt.ylabel(\"Value\")\n",
    "    plt.grid(True)\n",
    "    plt.legend()"
   ]
  },
  {
   "cell_type": "code",
   "execution_count": 17,
   "id": "0fb1eaa1",
   "metadata": {},
   "outputs": [
    {
     "data": {
      "image/png": "[encoded data removed]",
      "text/plain": [
       "<Figure size 720x432 with 1 Axes>"
      ]
     },
     "metadata": {
      "needs_background": "light"
     },
     "output_type": "display_data"
    }
   ],
   "source": [
    "forecast=[]\n",
    "for time in range(len(series) - window_size):\n",
    "  pred = model.predict(series[time:time + window_size][np.newaxis])\n",
    "  # rescaled_pred = scaler2.inverse_transform(pred)\n",
    "  # pred = pred / 100.\n",
    "  forecast.append(pred)\n",
    "\n",
    "forecast = forecast[split_time-window_size:]\n",
    "results = np.array(forecast)[:, 0, 0]\n",
    "\n",
    "plt.figure(figsize=(10, 6))\n",
    "plot_series(time_valid, x_valid[:, 0], \"real\")\n",
    "plot_series(time_valid, results, \"predicted\")"
   ]
  },
  {
   "cell_type": "code",
   "execution_count": 18,
   "id": "74442a49",
   "metadata": {},
   "outputs": [
    {
     "data": {
      "text/plain": [
       "0.3021223"
      ]
     },
     "execution_count": 18,
     "metadata": {},
     "output_type": "execute_result"
    }
   ],
   "source": [
    "tf.keras.metrics.mean_absolute_error(x_valid[:, 0], results).numpy()"
   ]
  },
  {
   "cell_type": "code",
   "execution_count": 19,
   "id": "25f65c97",
   "metadata": {},
   "outputs": [
    {
     "data": {
      "text/plain": [
       "-3.1199306e-06"
      ]
     },
     "execution_count": 19,
     "metadata": {},
     "output_type": "execute_result"
    }
   ],
   "source": [
    "model.predict(series[-window_size:][np.newaxis])[0, 0] - model.predict(series[-window_size-1:-1][np.newaxis])[0, 0]"
   ]
  },
  {
   "cell_type": "code",
   "execution_count": 20,
   "id": "3285a76d",
   "metadata": {},
   "outputs": [
    {
     "name": "stdout",
     "output_type": "stream",
     "text": [
      "146.08037\n",
      "146.06535\n"
     ]
    }
   ],
   "source": [
    "scaler2 = MinMaxScaler()\n",
    "scaler2.min_ = scaler.min_[0]\n",
    "scaler2.scale_ = scaler.scale_[0]\n",
    "print(scaler2.inverse_transform(model.predict(series[-window_size-1:-1][np.newaxis]))[0, 0])\n",
    "print(scaler2.inverse_transform(model.predict(series[-window_size:][np.newaxis]))[0, 0])"
   ]
  },
  {
   "cell_type": "code",
   "execution_count": null,
   "id": "ee69de85",
   "metadata": {},
   "outputs": [],
   "source": []
  }
 ],
 "metadata": {
  "kernelspec": {
   "display_name": "Python 3 (ipykernel)",
   "language": "python",
   "name": "python3"
  },
  "language_info": {
   "codemirror_mode": {
    "name": "ipython",
    "version": 3
   },
   "file_extension": ".py",
   "mimetype": "text/x-python",
   "name": "python",
   "nbconvert_exporter": "python",
   "pygments_lexer": "ipython3",
   "version": "3.9.7"
  }
 },
 "nbformat": 4,
 "nbformat_minor": 5
}
