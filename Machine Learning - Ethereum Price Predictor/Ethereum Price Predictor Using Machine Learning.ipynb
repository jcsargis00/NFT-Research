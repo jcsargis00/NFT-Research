{
 "cells": [
  {
   "cell_type": "code",
   "execution_count": null,
   "id": "b638a888",
   "metadata": {},
   "outputs": [],
   "source": [
    "import pandas as pd\n",
    "import matplotlib.pyplot as plt\n",
    "from urllib.request import Request, urlopen"
   ]
  },
  {
   "cell_type": "code",
   "execution_count": null,
   "id": "736ac336",
   "metadata": {},
   "outputs": [],
   "source": [
    "price_url = \"https://etherscan.io/chart/etherprice?output=csv\"\n",
    "market_capitalization_url = \"https://etherscan.io/chart/marketcap?output=csv\"\n",
    "supply_growth_url = \"https://etherscan.io/chart/ethersupplygrowth?output=csv\"\n",
    "daily_transactions_url = \"https://etherscan.io/chart/tx?output=csv\"\n",
    "daily_token_transfer_url = \"https://etherscan.io/chart/tokenerc-20txns?output=csv\"\n",
    "unique_address_url = \"https://etherscan.io/chart/address?output=csv\"\n",
    "avg_block_size_url = \"https://etherscan.io/chart/blocksize?output=csv\"\n",
    "avg_block_time_url = \"https://etherscan.io/chart/blocktime?output=csv\"\n",
    "avg_gas_price_url = \"https://etherscan.io/chart/gasprice?output=csv\"\n",
    "avg_gas_limit_url = \"https://etherscan.io/chart/gaslimit?output=csv\"\n",
    "daily_gas_used_url = \"https://etherscan.io/chart/gasused?output=csv\"\n",
    "daily_block_reward_url = \"https://etherscan.io/chart/blockreward?output=csv\"\n",
    "block_count_rewards_url = \"https://etherscan.io/chart/blocks?output=csv\"\n",
    "uncle_count_rewards_url = \"https://etherscan.io/chart/uncles?output=csv\"\n",
    "net_hashrte_url = \"https://etherscan.io/chart/hashrate?output=csv\"\n",
    "net_difficulty_url = \"https://etherscan.io/chart/difficulty?output=csv\"\n",
    "pending_transactions_url = \"https://etherscan.io/chart/pendingtx?output=csv\"\n",
    "net_transaction_fee_url = \"https://etherscan.io/chart/transactionfee?output=csv\"\n",
    "net_utilization_url = \"https://etherscan.io/chart/networkutilization?output=csv\"\n",
    "daily_verified_contracts_url = \"https://etherscan.io/chart/verified-contracts?output=csv\""
   ]
  },
  {
   "cell_type": "code",
   "execution_count": null,
   "id": "a53742a1",
   "metadata": {},
   "outputs": [],
   "source": [
    "def read_data(url):\n",
    "  req = Request(url)\n",
    "  req.add_header('User-Agent', 'Mozilla/5.0 (X11; Ubuntu; Linux x86_64; rv:77.0) Gecko/20100101 Firefox/77.0')\n",
    "  content = urlopen(req)\n",
    "\n",
    "  return pd.read_csv(content)\n",
    "url_list = [\n",
    "              (\"price\", price_url),\n",
    "              (\"market cap.\", market_capitalization_url),\n",
    "              (\"supply growth\", supply_growth_url),\n",
    "              (\"daily trans.\", daily_transactions_url),\n",
    "              (\"daily token trans.\", daily_token_transfer_url),\n",
    "              (\"uniq. address\", unique_address_url),\n",
    "              (\"avg blk size\", avg_block_size_url),\n",
    "              (\"avg blk time\", avg_block_time_url),\n",
    "              (\"avg gas price\", avg_gas_price_url),\n",
    "              (\"avg gas limit\", avg_gas_limit_url),\n",
    "              (\"daily gas used\", daily_gas_used_url),\n",
    "              (\"daily blk reward\", daily_block_reward_url),\n",
    "              (\"blk count reward\", block_count_rewards_url),\n",
    "              (\"uncle count reward\", uncle_count_rewards_url),\n",
    "              (\"net hashrte\", net_hashrte_url),\n",
    "              (\"net diff.\", net_difficulty_url),\n",
    "              # (\"pending trans.\", pending_transactions_url),\n",
    "              (\"net trans. fee\", net_transaction_fee_url),\n",
    "              (\"net util.\", net_utilization_url),\n",
    "              # (\"daily verified contracts\", daily_verified_contracts_url),\n",
    "]\n"
   ]
  },
  {
   "cell_type": "code",
   "execution_count": null,
   "id": "c69297ca",
   "metadata": {},
   "outputs": [],
   "source": [
    "df_list = []\n",
    "for column_name, url in url_list:\n",
    "  df = read_data(url)\n",
    "  df[\"Date(UTC)\"] = pd.to_datetime(df[\"Date(UTC)\"]).dt.strftime('%m/%d/%Y')\n",
    "\n",
    "  if \"UnixTimeStamp\" in df.columns:\n",
    "    df = df.drop(\"UnixTimeStamp\", 1)\n",
    "    \n",
    "  if \"Value\" in df.columns:\n",
    "    df = df.rename(columns={\"Value\": column_name})\n",
    "\n",
    "  df_list.append(df)\n",
    "from functools import reduce\n"
   ]
  },
  {
   "cell_type": "code",
   "execution_count": null,
   "id": "40b2d0db",
   "metadata": {},
   "outputs": [],
   "source": [
    "df_total = reduce(lambda df1, df2: pd.merge(df1, df2, on='Date(UTC)'), df_list)\n",
    "df_total = df_total.rename(columns={\"Value (Wei)\": \"avg gas price\"})\n",
    "df_total"
   ]
  },
  {
   "cell_type": "code",
   "execution_count": null,
   "id": "e6c35191",
   "metadata": {},
   "outputs": [],
   "source": [
    "df_total.info()"
   ]
  },
  {
   "cell_type": "code",
   "execution_count": null,
   "id": "c2b04c03",
   "metadata": {
    "scrolled": true
   },
   "outputs": [],
   "source": [
    "df_total = pd.read_csv(\"ethereum_data.csv\")\n",
    "df_total"
   ]
  },
  {
   "cell_type": "code",
   "execution_count": null,
   "id": "39c5a000",
   "metadata": {},
   "outputs": [],
   "source": [
    "describe df_total"
   ]
  },
  {
   "cell_type": "code",
   "execution_count": null,
   "id": "79dbf8ca",
   "metadata": {},
   "outputs": [],
   "source": [
    "import matplotlib.pyplot as plt\n",
    "\n",
    "df_total[\"Price\"].plot()\n",
    "plt.show()"
   ]
  },
  {
   "cell_type": "code",
   "execution_count": null,
   "id": "acf66ec1",
   "metadata": {},
   "outputs": [],
   "source": []
  },
  {
   "cell_type": "code",
   "execution_count": null,
   "id": "2c0851f1",
   "metadata": {},
   "outputs": [],
   "source": []
  },
  {
   "cell_type": "code",
   "execution_count": null,
   "id": "63f0352e",
   "metadata": {},
   "outputs": [],
   "source": []
  },
  {
   "cell_type": "code",
   "execution_count": null,
   "id": "fb53ab7d",
   "metadata": {},
   "outputs": [],
   "source": [
    "df_total[\"price\"].plot()\n",
    "plt.show()"
   ]
  },
  {
   "cell_type": "code",
   "execution_count": null,
   "id": "d5fb1eae",
   "metadata": {},
   "outputs": [],
   "source": [
    "import tensorflow as tf\n",
    "\n",
    "df_months = pd.to_datetime(df_total[\"Date(UTC)\"]).dt.strftime('%m').astype(\"int16\")\n",
    "df_days = pd.to_datetime(df_total[\"Date(UTC)\"]).dt.strftime('%d').astype(\"int16\")\n",
    "months = pd.DataFrame(tf.keras.utils.to_categorical(df_months)[:, 1:], columns=[\"Month \"+str(i) for i in range(1, 13)]).astype(\"int\")\n",
    "days = pd.DataFrame(tf.keras.utils.to_categorical(df_days)[:, 1:], columns=[\"Day \"+str(i) for i in range(1, 32)]).astype(\"int\")\n",
    "df_total = pd.concat([df_total, months, days], axis=1)\n",
    "df_total"
   ]
  },
  {
   "cell_type": "code",
   "execution_count": null,
   "id": "2a13bab5",
   "metadata": {},
   "outputs": [],
   "source": [
    "from sklearn.preprocessing import MinMaxScaler\n",
    "import numpy as np\n",
    "\n",
    "series = df_total[[column for column in df_total.columns if column not in [\"Date(UTC)\"]]]\n",
    "series = series.applymap(lambda value: value.replace(\",\", \"\") if type(value) is str else value)\n",
    "series = series.to_numpy()\n",
    "scaler = MinMaxScaler()\n",
    "series = scaler.fit_transform(series)"
   ]
  },
  {
   "cell_type": "code",
   "execution_count": null,
   "id": "ee3149fd",
   "metadata": {},
   "outputs": [],
   "source": [
    "split_time = 1500\n",
    "\n",
    "time = np.array(df_total.index)\n",
    "time_train = time[:split_time]\n",
    "x_train = series[:split_time]\n",
    "time_valid = time[split_time:]\n",
    "x_valid = series[split_time:]\n",
    "\n",
    "window_size = 90\n",
    "batch_size = 512\n",
    "shuffle_buffer_size = 1000"
   ]
  },
  {
   "cell_type": "code",
   "execution_count": null,
   "id": "3d5e63bb",
   "metadata": {},
   "outputs": [],
   "source": [
    "def windowed_dataset(series, window_size, batch_size, shuffle_buffer):\n",
    "  dataset = tf.data.Dataset.from_tensor_slices(series)\n",
    "  dataset = dataset.window(window_size + 1, shift=1, drop_remainder=True)\n",
    "  dataset = dataset.flat_map(lambda window: window.batch(window_size + 1))\n",
    "  dataset = dataset.shuffle(shuffle_buffer).map(lambda window: (window[:-1], window[-1][0]))\n",
    "  dataset = dataset.batch(batch_size).prefetch(1)\n",
    "  \n",
    "  return dataset"
   ]
  },
  {
   "cell_type": "code",
   "execution_count": null,
   "id": "446a1e3d",
   "metadata": {},
   "outputs": [],
   "source": [
    "tf.keras.backend.clear_session()\n",
    "\n",
    "train_set = windowed_dataset(x_train, window_size, batch_size=batch_size, shuffle_buffer=shuffle_buffer_size)"
   ]
  },
  {
   "cell_type": "code",
   "execution_count": null,
   "id": "7dff548d",
   "metadata": {},
   "outputs": [],
   "source": [
    "model = tf.keras.models.Sequential([\n",
    "  # tf.keras.layers.Lambda(lambda x: tf.expand_dims(x, axis=-1), batch_input_shape=[None, window_size, series.shape[1]]),\n",
    "  # tf.keras.layers.TimeDistributed(tf.keras.layers.Conv1D(filters=32, kernel_size=3), name=\"Conv1d_1\"),\n",
    "  # tf.keras.layers.TimeDistributed(tf.keras.layers.MaxPool1D(pool_size=2), name=\"maxpool_1\"),\n",
    "  # tf.keras.layers.TimeDistributed(tf.keras.layers.Dropout(0.2), name=\"dropout_1\"),\n",
    "  # tf.keras.layers.TimeDistributed(tf.keras.layers.Conv1D(filters=32, kernel_size=3), name=\"Conv1d_2\"),\n",
    "  # tf.keras.layers.TimeDistributed(tf.keras.layers.MaxPool1D(pool_size=2), name=\"maxpool_2\"),\n",
    "  # tf.keras.layers.TimeDistributed(tf.keras.layers.Dropout(0.2), name=\"dropout_2\"),\n",
    "  # tf.keras.layers.TimeDistributed(tf.keras.layers.Flatten(), name=\"flatten\"),\n",
    "  tf.keras.layers.Conv1D(filters=128, kernel_size=3, padding=\"causal\", activation=\"relu\", input_shape=[None, series.shape[1]]),\n",
    "  # tf.keras.layers.MaxPool1D(pool_size=2),\n",
    "  tf.keras.layers.Conv1D(filters=64, kernel_size=3, padding=\"causal\", activation=\"relu\"),\n",
    "  # tf.keras.layers.MaxPool1D(pool_size=2),\n",
    "  # tf.keras.layers.Bidirectional(tf.keras.layers.LSTM(32)),\n",
    "  tf.keras.layers.Bidirectional(tf.keras.layers.LSTM(128, return_sequences=True)),\n",
    "  tf.keras.layers.Bidirectional(tf.keras.layers.LSTM(128, return_sequences=True)),\n",
    "  # tf.keras.layers.Bidirectional(tf.keras.layers.LSTM(32, return_sequences=True)),\n",
    "  tf.keras.layers.Bidirectional(tf.keras.layers.LSTM(128)),\n",
    "  tf.keras.layers.Dense(128, activation=\"relu\"),\n",
    "  tf.keras.layers.Dense(1),\n",
    "  # tf.keras.layers.Lambda(lambda x: x * 100.0)\n",
    "])\n",
    "\n",
    "lr = 0.1\n",
    "lr_schedule = tf.keras.callbacks.LearningRateScheduler(lambda epoch: lr * np.power(0.6, np.floor((1 + epoch)/20)))\n",
    "early_stopping = tf.keras.callbacks.EarlyStopping(monitor=\"mae\", patience=5, restore_best_weights=True)\n",
    "optimizer = tf.keras.optimizers.Adam(lr=lr)\n",
    "# optimizer = tf.keras.optimizers.SGD(lr=lr, momentum=0.9)\n",
    "model.compile(loss=\"mse\",\n",
    "              optimizer=optimizer,\n",
    "              metrics=[\"mae\"])\n",
    "\n",
    "model.summary()\n",
    "\n",
    "history = model.fit(train_set, epochs=200, callbacks=[\n",
    "                                                      learning_rate_schedule, \n",
    "                                                      # early_stopping,\n",
    "                                                      ])"
   ]
  },
  {
   "cell_type": "code",
   "execution_count": null,
   "id": "d021f958",
   "metadata": {},
   "outputs": [],
   "source": [
    "plt.plot(np.arange(200), 0.1*np.power(0.6, np.floor((1 + np.arange(200))/20)))"
   ]
  },
  {
   "cell_type": "code",
   "execution_count": null,
   "id": "9b913936",
   "metadata": {},
   "outputs": [],
   "source": [
    "plt.semilogx(history.history[\"lr\"], history.history[\"loss\"])\n",
    "plt.show()"
   ]
  },
  {
   "cell_type": "code",
   "execution_count": null,
   "id": "51e074d2",
   "metadata": {},
   "outputs": [],
   "source": [
    "def plot_series(time, series, label, format=\"-\", start=0, end=None):\n",
    "    plt.plot(time[start:end], series[start:end], format, label=label)\n",
    "    plt.xlabel(\"Time\")\n",
    "    plt.ylabel(\"Value\")\n",
    "    plt.grid(True)\n",
    "    plt.legend()"
   ]
  },
  {
   "cell_type": "code",
   "execution_count": null,
   "id": "0fb1eaa1",
   "metadata": {},
   "outputs": [],
   "source": [
    "forecast=[]\n",
    "for time in range(len(series) - window_size):\n",
    "  pred = model.predict(series[time:time + window_size][np.newaxis])\n",
    "  # rescaled_pred = scaler2.inverse_transform(pred)\n",
    "  # pred = pred / 100.\n",
    "  forecast.append(pred)\n",
    "\n",
    "forecast = forecast[split_time-window_size:]\n",
    "results = np.array(forecast)[:, 0, 0]\n",
    "\n",
    "plt.figure(figsize=(10, 6))\n",
    "plot_series(time_valid, x_valid[:, 0], \"real\")\n",
    "plot_series(time_valid, results, \"predicted\")"
   ]
  },
  {
   "cell_type": "code",
   "execution_count": null,
   "id": "74442a49",
   "metadata": {},
   "outputs": [],
   "source": [
    "tf.keras.metrics.mean_absolute_error(x_valid[:, 0], results).numpy()"
   ]
  },
  {
   "cell_type": "code",
   "execution_count": null,
   "id": "25f65c97",
   "metadata": {},
   "outputs": [],
   "source": [
    "model.predict(series[-window_size:][np.newaxis])[0, 0] - model.predict(series[-window_size-1:-1][np.newaxis])[0, 0]"
   ]
  },
  {
   "cell_type": "code",
   "execution_count": null,
   "id": "3285a76d",
   "metadata": {},
   "outputs": [],
   "source": [
    "scaler2 = MinMaxScaler()\n",
    "scaler2.min_ = scaler.min_[0]\n",
    "scaler2.scale_ = scaler.scale_[0]\n",
    "print(scaler2.inverse_transform(model.predict(series[-window_size-1:-1][np.newaxis]))[0, 0])\n",
    "print(scaler2.inverse_transform(model.predict(series[-window_size:][np.newaxis]))[0, 0])"
   ]
  },
  {
   "cell_type": "code",
   "execution_count": null,
   "id": "ee69de85",
   "metadata": {},
   "outputs": [],
   "source": []
  }
 ],
 "metadata": {
  "kernelspec": {
   "display_name": "Python 3 (ipykernel)",
   "language": "python",
   "name": "python3"
  },
  "language_info": {
   "codemirror_mode": {
    "name": "ipython",
    "version": 3
   },
   "file_extension": ".py",
   "mimetype": "text/x-python",
   "name": "python",
   "nbconvert_exporter": "python",
   "pygments_lexer": "ipython3",
   "version": "3.9.7"
  }
 },
 "nbformat": 4,
 "nbformat_minor": 5
}
