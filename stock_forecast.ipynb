{
 "cells": [
  {
   "cell_type": "code",
   "execution_count": 1,
   "id": "04337bee",
   "metadata": {},
   "outputs": [
    {
     "ename": "ModuleNotFoundError",
     "evalue": "No module named 'yfinance'",
     "output_type": "error",
     "traceback": [
      "\u001b[1;31m---------------------------------------------------------------------------\u001b[0m",
      "\u001b[1;31mModuleNotFoundError\u001b[0m                       Traceback (most recent call last)",
      "\u001b[1;32m~\\AppData\\Local\\Temp\\ipykernel_16496\\3918248716.py\u001b[0m in \u001b[0;36m<module>\u001b[1;34m\u001b[0m\n\u001b[0;32m      1\u001b[0m \u001b[1;32mimport\u001b[0m \u001b[0mpandas\u001b[0m \u001b[1;32mas\u001b[0m \u001b[0mpd\u001b[0m\u001b[1;33m\u001b[0m\u001b[1;33m\u001b[0m\u001b[0m\n\u001b[0;32m      2\u001b[0m \u001b[1;32mimport\u001b[0m \u001b[0mnumpy\u001b[0m \u001b[1;32mas\u001b[0m \u001b[0mnp\u001b[0m\u001b[1;33m\u001b[0m\u001b[1;33m\u001b[0m\u001b[0m\n\u001b[1;32m----> 3\u001b[1;33m \u001b[1;32mimport\u001b[0m \u001b[0myfinance\u001b[0m \u001b[1;32mas\u001b[0m \u001b[0myf\u001b[0m\u001b[1;33m\u001b[0m\u001b[1;33m\u001b[0m\u001b[0m\n\u001b[0m\u001b[0;32m      4\u001b[0m \u001b[1;32mimport\u001b[0m \u001b[0mmatplotlib\u001b[0m\u001b[1;33m.\u001b[0m\u001b[0mpyplot\u001b[0m \u001b[1;32mas\u001b[0m \u001b[0mplt\u001b[0m\u001b[1;33m\u001b[0m\u001b[1;33m\u001b[0m\u001b[0m\n\u001b[0;32m      5\u001b[0m \u001b[1;32mimport\u001b[0m \u001b[0mplotly\u001b[0m\u001b[1;33m.\u001b[0m\u001b[0mgraph_objects\u001b[0m \u001b[1;32mas\u001b[0m \u001b[0mgo\u001b[0m\u001b[1;33m\u001b[0m\u001b[1;33m\u001b[0m\u001b[0m\n",
      "\u001b[1;31mModuleNotFoundError\u001b[0m: No module named 'yfinance'"
     ]
    }
   ],
   "source": [
    "import pandas as pd\n",
    "import numpy as np\n",
    "import yfinance as yf\n",
    "import matplotlib.pyplot as plt\n",
    "import plotly.graph_objects as go\n",
    "from datetime import date\n",
    "import math\n",
    "from sklearn.preprocessing import MinMaxScaler\n",
    "import tensorflow as tf\n",
    "from tensorflow import keras\n",
    "from tensorflow.keras import layers\n",
    "import joblib\n",
    "import pickle\n",
    "import plotly.graph_objects as go"
   ]
  },
  {
   "cell_type": "code",
   "execution_count": null,
   "id": "0d372cb6",
   "metadata": {},
   "outputs": [],
   "source": [
    "START = \"2010-01-01\"\n",
    "END = date.today().strftime(\"%Y-%m-%d\")"
   ]
  },
  {
   "cell_type": "code",
   "execution_count": null,
   "id": "a664417f",
   "metadata": {},
   "outputs": [],
   "source": [
    "def load_data(ticker):\n",
    "    data = yf.download(ticker,START,END)\n",
    "    data.reset_index(inplace=True)\n",
    "    return data"
   ]
  },
  {
   "cell_type": "code",
   "execution_count": null,
   "id": "ad5c20b4",
   "metadata": {},
   "outputs": [],
   "source": [
    "df = load_data('AAPL')"
   ]
  },
  {
   "cell_type": "code",
   "execution_count": null,
   "id": "d657d8c0",
   "metadata": {},
   "outputs": [],
   "source": [
    "df = df.drop('Adj Close',axis=1)"
   ]
  },
  {
   "cell_type": "code",
   "execution_count": null,
   "id": "987914dd",
   "metadata": {},
   "outputs": [],
   "source": [
    "df_Close = df[['Close','Date']]"
   ]
  },
  {
   "cell_type": "code",
   "execution_count": null,
   "id": "d5089b21",
   "metadata": {},
   "outputs": [],
   "source": [
    "df_Close.set_index('Date')"
   ]
  },
  {
   "cell_type": "code",
   "execution_count": null,
   "id": "c83c0b5b",
   "metadata": {},
   "outputs": [],
   "source": [
    "df_open = df[['Open','Date']]"
   ]
  },
  {
   "cell_type": "code",
   "execution_count": null,
   "id": "3fd7e39d",
   "metadata": {},
   "outputs": [],
   "source": [
    "#Filter Close column insted of deleting it\n",
    "df_open = df_open.drop('Date',axis=1"
   ]
  },
  {
   "cell_type": "code",
   "execution_count": null,
   "id": "1fdcc7ed",
   "metadata": {},
   "outputs": [],
   "source": [
    "df_open.shape"
   ]
  },
  {
   "cell_type": "code",
   "execution_count": null,
   "id": "fca34088",
   "metadata": {},
   "outputs": [],
   "source": [
    "#Save values in an array\n",
    "df_open"
   ]
  },
  {
   "cell_type": "code",
   "execution_count": null,
   "id": "bce5c4f2",
   "metadata": {},
   "outputs": [],
   "source": [
    "traindata_size = math.ceil(len(df_open)*.8)\n",
    "testdata_size = len(df_open) - traindata_size"
   ]
  },
  {
   "cell_type": "code",
   "execution_count": null,
   "id": "2e299faa",
   "metadata": {},
   "outputs": [],
   "source": [
    "traindata_size"
   ]
  },
  {
   "cell_type": "code",
   "execution_count": null,
   "id": "db010e68",
   "metadata": {},
   "outputs": [],
   "source": [
    "testdata_size"
   ]
  },
  {
   "cell_type": "code",
   "execution_count": null,
   "id": "a8094ffd",
   "metadata": {},
   "outputs": [],
   "source": [
    "train = df_open[0:traindata_size]\n",
    "print(len(train))"
   ]
  },
  {
   "cell_type": "code",
   "execution_count": null,
   "id": "92e5455e",
   "metadata": {},
   "outputs": [],
   "source": [
    "sc = MinMaxScaler(feature_range = (0,1))\n",
    "scaled_train = sc.fit_transform(train)"
   ]
  },
  {
   "cell_type": "code",
   "execution_count": null,
   "id": "b342bd29",
   "metadata": {},
   "outputs": [],
   "source": [
    "X_train = []\n",
    "y_train = []\n",
    "\n",
    "for i in range(60, len(scaled_train)):\n",
    "    X_train.append(scaled_train[i-60:i, 0])\n",
    "    y_train.append(scaled_train[i, 0])\n",
    "    \n",
    "\n",
    "X_train = np.array(X_train)\n",
    "y_train = np.array(y_train)"
   ]
  },
  {
   "cell_type": "code",
   "execution_count": null,
   "id": "41db1fff",
   "metadata": {},
   "outputs": [],
   "source": [
    "X_train = np.reshape(X_train, (X_train.shape[0],X_train.shape[1],1))"
   ]
  },
  {
   "cell_type": "code",
   "execution_count": null,
   "id": "45125d6e",
   "metadata": {},
   "outputs": [],
   "source": [
    "model = keras.Sequential()\n",
    "\n",
    "model.add(layers.LSTM(units= 50, return_sequences = True, input_shape= (X_train.shape[1],1)))\n",
    "model.add(layers.Dropout(0.2))\n",
    "\n",
    "model.add(layers.LSTM(units= 50, return_sequences = True))\n",
    "model.add(layers.Dropout(0.2))\n",
    "\n",
    "model.add(layers.LSTM(units= 50, return_sequences = True))\n",
    "model.add(layers.Dropout(0.2))\n",
    "\n",
    "model.add(layers.LSTM(units= 25))\n",
    "model.add(layers.Dropout(0.2))\n",
    "\n",
    "model.add(layers.Dense(units = 1))"
   ]
  },
  {
   "cell_type": "code",
   "execution_count": null,
   "id": "c5b34fb6",
   "metadata": {},
   "outputs": [],
   "source": [
    "model.compile(loss='mean_squared_error', optimizer='adam')"
   ]
  },
  {
   "cell_type": "code",
   "execution_count": null,
   "id": "f279f74e",
   "metadata": {},
   "outputs": [],
   "source": [
    "\n",
    "model.fit(X_train,y_train, batch_size = 1, epochs = 5)"
   ]
  },
  {
   "cell_type": "code",
   "execution_count": null,
   "id": "d55f011c",
   "metadata": {},
   "outputs": [],
   "source": [
    "test = df_open[traindata_size - 60:]\n",
    "print(len(test))"
   ]
  },
  {
   "cell_type": "code",
   "execution_count": null,
   "id": "38af9b74",
   "metadata": {},
   "outputs": [],
   "source": [
    "scaled_test = sc.fit_transform(test)"
   ]
  },
  {
   "cell_type": "code",
   "execution_count": null,
   "id": "98e8c2de",
   "metadata": {},
   "outputs": [],
   "source": [
    "X_test = []\n",
    "y_test = df_open[traindata_size:]\n",
    "for i in range(60,len(scaled_test)):\n",
    "    X_test.append(scaled_test[i-60:i, 0])\n",
    "\n",
    "X_test = np.array(X_test)"
   ]
  },
  {
   "cell_type": "code",
   "execution_count": null,
   "id": "eeab19e6",
   "metadata": {},
   "outputs": [],
   "source": [
    "X_test = np.reshape(X_test,(X_test.shape[0],X_test.shape[1],1))"
   ]
  },
  {
   "cell_type": "code",
   "execution_count": null,
   "id": "7c4b2720",
   "metadata": {},
   "outputs": [],
   "source": [
    "\n",
    "pred = model.predict(X_test)rmse = np.sqrt(np.mean(predictions - y_test)**2)\n",
    "rmse\n",
    "predictions = sc.inverse_transform(pred)"
   ]
  },
  {
   "cell_type": "code",
   "execution_count": null,
   "id": "f55f3b99",
   "metadata": {},
   "outputs": [],
   "source": [
    "train = df_open[:traindata_size]\n",
    "valid = df_open[traindata_size:]\n",
    "valid['predictions'] = predictions\n",
    "plt.figure(figsize=(16,8))\n",
    "plt.title(\"Time series forecast with LSTM\")\n",
    "plt.xlabel(\"Days\")\n",
    "plt.ylabel(\"Closing price in USD($)\")\n",
    "plt.plot(train['Open'])\n",
    "plt.plot(valid[['Open','predictions']])\n",
    "plt.legend(['Train','Val','Predicted'],loc='lower right')\n",
    "plt.show()"
   ]
  },
  {
   "cell_type": "code",
   "execution_count": null,
   "id": "aeb343fb",
   "metadata": {},
   "outputs": [],
   "source": [
    "predictions[570]"
   ]
  },
  {
   "cell_type": "code",
   "execution_count": null,
   "id": "8fbb3210",
   "metadata": {},
   "outputs": [],
   "source": [
    "valid"
   ]
  },
  {
   "cell_type": "code",
   "execution_count": null,
   "id": "02642cdd",
   "metadata": {},
   "outputs": [],
   "source": [
    "model.save('LSTM2.h5')"
   ]
  }
 ],
 "metadata": {
  "kernelspec": {
   "display_name": "Python 3 (ipykernel)",
   "language": "python",
   "name": "python3"
  },
  "language_info": {
   "codemirror_mode": {
    "name": "ipython",
    "version": 3
   },
   "file_extension": ".py",
   "mimetype": "text/x-python",
   "name": "python",
   "nbconvert_exporter": "python",
   "pygments_lexer": "ipython3",
   "version": "3.7.11"
  }
 },
 "nbformat": 4,
 "nbformat_minor": 5
}
