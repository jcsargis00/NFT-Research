{
 "cells": [
  {
   "cell_type": "code",
   "execution_count": 1,
   "id": "7f0fe41c",
   "metadata": {},
   "outputs": [],
   "source": [
    "import requests\n",
    "\n",
    "\n",
    "def fetch_coingecko_html():\n",
    "    # make a request to the target website\n",
    "    r = requests.get(\"https://www.coingecko.com\")\n",
    "    if r.status_code == 200:\n",
    "        # if the request is successful return the HTML content\n",
    "        return r.text\n",
    "    else:\n",
    "        # throw an exception if an error occurred\n",
    "        raise Exception(\"an error occurred while fetching coingecko html\")"
   ]
  },
  {
   "cell_type": "code",
   "execution_count": null,
   "id": "c990505e",
   "metadata": {},
   "outputs": [],
   "source": []
  }
 ],
 "metadata": {
  "kernelspec": {
   "display_name": "Python 3 (ipykernel)",
   "language": "python",
   "name": "python3"
  },
  "language_info": {
   "codemirror_mode": {
    "name": "ipython",
    "version": 3
   },
   "file_extension": ".py",
   "mimetype": "text/x-python",
   "name": "python",
   "nbconvert_exporter": "python",
   "pygments_lexer": "ipython3",
   "version": "3.7.11"
  }
 },
 "nbformat": 4,
 "nbformat_minor": 5
}
