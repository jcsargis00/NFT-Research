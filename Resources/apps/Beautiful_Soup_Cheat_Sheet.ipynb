{
 "cells": [
  {
   "cell_type": "code",
   "execution_count": 1,
   "id": "eedbfeb2",
   "metadata": {},
   "outputs": [
    {
     "name": "stdout",
     "output_type": "stream",
     "text": [
      "<!DOCTYPE html>\n",
      "<html>\n",
      " <head>\n",
      "  <title>\n",
      "   This is the title of a website\n",
      "  </title>\n",
      " </head>\n",
      " <body>\n",
      "  <h1 id=\"heading-1\">\n",
      "   This is the main heading\n",
      "  </h1>\n",
      "  <h2 id=\"heading-2\">\n",
      "   This is a subheading\n",
      "  </h2>\n",
      "  <p>\n",
      "   Lorem ipsum dolor sit amet, consectetur adipisicing elit, sed do eiusmod tempor incididunt ut labore et dolore magna aliqua.\n",
      "  </p>\n",
      "  <ul>\n",
      "   <li class=\"list-item\">\n",
      "    First\n",
      "   </li>\n",
      "   <li class=\"list-item\">\n",
      "    Second\n",
      "   </li>\n",
      "   <li class=\"list-item\">\n",
      "    Third\n",
      "   </li>\n",
      "  </ul>\n",
      " </body>\n",
      "</html>\n"
     ]
    }
   ],
   "source": [
    "from bs4 import BeautifulSoup\n",
    "\n",
    "# define a HTML document\n",
    "html = \"<!DOCTYPE html><html><head><title>This is the title of a website</title></head><body><h1 id='heading-1'>This is the main heading</h1><h2 id='heading-2'>This is a subheading</h2><p>Lorem ipsum dolor sit amet, consectetur adipisicing elit, sed do eiusmod tempor incididunt ut labore et dolore magna aliqua.</p><ul><li class='list-item'>First</li><li class='list-item'>Second</li><li class='list-item'>Third</li></ul></body></html>\"\n",
    "\n",
    "# parse the HTML content with Beautiful Soup\n",
    "soup = BeautifulSoup(html, \"html.parser\")\n",
    "\n",
    "# print the HTML in a beautiful form\n",
    "print(soup.prettify())"
   ]
  },
  {
   "cell_type": "code",
   "execution_count": 2,
   "id": "498cd8aa",
   "metadata": {},
   "outputs": [
    {
     "name": "stdout",
     "output_type": "stream",
     "text": [
      "<title>This is the title of a website</title>\n",
      "<h1 id=\"heading-1\">This is the main heading</h1>\n"
     ]
    }
   ],
   "source": [
    "# getting the title element of the HTML\n",
    "print(soup.title)\n",
    "\n",
    "# getting the first h1 element in the HTML\n",
    "print(soup.h1)"
   ]
  },
  {
   "cell_type": "code",
   "execution_count": 3,
   "id": "d6a936ec",
   "metadata": {},
   "outputs": [
    {
     "name": "stdout",
     "output_type": "stream",
     "text": [
      "<h2 id=\"heading-2\">This is a subheading</h2>\n",
      "<p>Lorem ipsum dolor sit amet, consectetur adipisicing elit, sed do eiusmod tempor incididunt ut labore et dolore magna aliqua.</p>\n"
     ]
    }
   ],
   "source": [
    "# getting the first h2 element in the HTML\n",
    "print(soup.find(\"h2\"))\n",
    "\n",
    "# getting the first p element in the HTML\n",
    "print(soup.find(\"p\"))"
   ]
  },
  {
   "cell_type": "code",
   "execution_count": 4,
   "id": "8cc56a1f",
   "metadata": {},
   "outputs": [
    {
     "name": "stdout",
     "output_type": "stream",
     "text": [
      "[<li class=\"list-item\">First</li>, <li class=\"list-item\">Second</li>, <li class=\"list-item\">Third</li>]\n"
     ]
    }
   ],
   "source": [
    "# getting all the li elements in the HTML\n",
    "print(soup.find_all(\"li\"))"
   ]
  },
  {
   "cell_type": "code",
   "execution_count": 5,
   "id": "f710782b",
   "metadata": {},
   "outputs": [
    {
     "name": "stdout",
     "output_type": "stream",
     "text": [
      "<h1 id=\"heading-1\">This is the main heading</h1>\n",
      "<h2 id=\"heading-2\">This is a subheading</h2>\n"
     ]
    }
   ],
   "source": [
    "# getting the h1 element with the heading-1 id\n",
    "print(soup.find(\"h1\", id=\"heading-1\"))\n",
    "\n",
    "# getting the h2 element with the heading-2 id\n",
    "print(soup.find(\"h2\", {\"id\": \"heading-2\"}))"
   ]
  },
  {
   "cell_type": "code",
   "execution_count": 6,
   "id": "6e1ee6dd",
   "metadata": {},
   "outputs": [
    {
     "name": "stdout",
     "output_type": "stream",
     "text": [
      "<li class=\"list-item\">First</li>\n",
      "[<li class=\"list-item\">First</li>, <li class=\"list-item\">Second</li>, <li class=\"list-item\">Third</li>]\n"
     ]
    }
   ],
   "source": [
    "# getting the first li element with the list-item class\n",
    "print(soup.find(\"li\", {\"class\": \"list-item\"}))\n",
    "\n",
    "# getting all the li elements with the list-item class\n",
    "print(soup.find_all(\"li\", {\"class\": \"list-item\"}))"
   ]
  },
  {
   "cell_type": "code",
   "execution_count": 7,
   "id": "9794e190",
   "metadata": {},
   "outputs": [
    {
     "name": "stdout",
     "output_type": "stream",
     "text": [
      "ID: homepage\n",
      "class: ['hyperlink']\n"
     ]
    }
   ],
   "source": [
    "# define a HTML document\n",
    "html = \"<a id='homepage' class='hyperlink' href='https://google.com'>Google</a>\"\n",
    "\n",
    "# parse the HTML content with Beautiful Soup\n",
    "soup = BeautifulSoup(html, \"html.parser\")\n",
    "\n",
    "# extract the a element in the HTML\n",
    "element = soup.find(\"a\")\n",
    "\n",
    "# extract the element id\n",
    "print(\"ID:\", element[\"id\"])\n",
    "\n",
    "# extract the element class\n",
    "print(\"class:\", element[\"class\"])\n",
    "\n",
    "# extract the element href"
   ]
  },
  {
   "cell_type": "code",
   "execution_count": null,
   "id": "6fc935ee",
   "metadata": {},
   "outputs": [],
   "source": []
  }
 ],
 "metadata": {
  "kernelspec": {
   "display_name": "Python 3 (ipykernel)",
   "language": "python",
   "name": "python3"
  },
  "language_info": {
   "codemirror_mode": {
    "name": "ipython",
    "version": 3
   },
   "file_extension": ".py",
   "mimetype": "text/x-python",
   "name": "python",
   "nbconvert_exporter": "python",
   "pygments_lexer": "ipython3",
   "version": "3.7.11"
  }
 },
 "nbformat": 4,
 "nbformat_minor": 5
}
