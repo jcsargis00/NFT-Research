{
 "cells": [
  {
   "cell_type": "code",
   "execution_count": 13,
   "id": "eedbfeb2",
   "metadata": {},
   "outputs": [],
   "source": [
    "import os\n",
    "import json\n",
    "import time\n",
    "import requests\n",
    "import datetime\n",
    "import dateutil\n",
    "import pandas as pd\n",
    "from dateutil.relativedelta import relativedelta"
   ]
  },
  {
   "cell_type": "code",
   "execution_count": 12,
   "id": "31105b46",
   "metadata": {},
   "outputs": [
    {
     "ename": "NameError",
     "evalue": "name 'pynytimes' is not defined",
     "output_type": "error",
     "traceback": [
      "\u001b[1;31m---------------------------------------------------------------------------\u001b[0m",
      "\u001b[1;31mNameError\u001b[0m                                 Traceback (most recent call last)",
      "\u001b[1;32m~\\AppData\\Local\\Temp/ipykernel_6780/1745937266.py\u001b[0m in \u001b[0;36m<module>\u001b[1;34m\u001b[0m\n\u001b[0;32m      1\u001b[0m \u001b[0mapikey\u001b[0m \u001b[1;33m=\u001b[0m \u001b[1;34m\"XL5zwAZA71pTTFxvP63lkjJli3jA68Bi\"\u001b[0m\u001b[1;33m\u001b[0m\u001b[1;33m\u001b[0m\u001b[0m\n\u001b[1;32m----> 2\u001b[1;33m \u001b[0mnytapi\u001b[0m \u001b[1;33m=\u001b[0m \u001b[0mpynytimes\u001b[0m\u001b[1;33m.\u001b[0m\u001b[0mNYTAPI\u001b[0m\u001b[1;33m(\u001b[0m\u001b[0mapikey\u001b[0m\u001b[1;33m,\u001b[0m \u001b[0mparse_dates\u001b[0m\u001b[1;33m=\u001b[0m\u001b[1;32mTrue\u001b[0m\u001b[1;33m)\u001b[0m\u001b[1;33m\u001b[0m\u001b[1;33m\u001b[0m\u001b[0m\n\u001b[0m",
      "\u001b[1;31mNameError\u001b[0m: name 'pynytimes' is not defined"
     ]
    }
   ],
   "source": [
    "apikey = \"XL5zwAZA71pTTFxvP63lkjJli3jA68Bi\"\n",
    "nytapi = pynytimes.NYTAPI(apikey, parse_dates=True)"
   ]
  },
  {
   "cell_type": "code",
   "execution_count": 8,
   "id": "20bbd5e9",
   "metadata": {},
   "outputs": [
    {
     "ename": "SyntaxError",
     "evalue": "invalid syntax (Temp/ipykernel_6780/3074211959.py, line 15)",
     "output_type": "error",
     "traceback": [
      "\u001b[1;36m  File \u001b[1;32m\"C:\\Users\\jcsar\\AppData\\Local\\Temp/ipykernel_6780/3074211959.py\"\u001b[1;36m, line \u001b[1;32m15\u001b[0m\n\u001b[1;33m    dates = {\u001b[0m\n\u001b[1;37m          ^\u001b[0m\n\u001b[1;31mSyntaxError\u001b[0m\u001b[1;31m:\u001b[0m invalid syntax\n"
     ]
    }
   ],
   "source": [
    "# importing datetime to be able to specify the publication date\n",
    "import datetime\n",
    "\n",
    "# searching for specific articles\n",
    "articles = nytapi.article_search(\n",
    "    query = \"Climate Change\",\n",
    "    options = {\n",
    "        \"sort\": \"newest\",\n",
    "        \"sources\": [\n",
    "            \"New York Times\"\n",
    "        ],\n",
    "        \"news_desk\": [\n",
    "            \"OpEd\"\n",
    "        ],\n",
    "      dates = {\n",
    "        \"begin\": datetime.datetime(2020, 1, 1),\n",
    "        \"end\": datetime.datetime(2020, 12, 31)\n",
    "    },\n",
    "    },\n",
    ")"
   ]
  },
  {
   "cell_type": "code",
   "execution_count": null,
   "id": "498cd8aa",
   "metadata": {},
   "outputs": [],
   "source": []
  }
 ],
 "metadata": {
  "kernelspec": {
   "display_name": "Python 3 (ipykernel)",
   "language": "python",
   "name": "python3"
  },
  "language_info": {
   "codemirror_mode": {
    "name": "ipython",
    "version": 3
   },
   "file_extension": ".py",
   "mimetype": "text/x-python",
   "name": "python",
   "nbconvert_exporter": "python",
   "pygments_lexer": "ipython3",
   "version": "3.9.7"
  }
 },
 "nbformat": 4,
 "nbformat_minor": 5
}
