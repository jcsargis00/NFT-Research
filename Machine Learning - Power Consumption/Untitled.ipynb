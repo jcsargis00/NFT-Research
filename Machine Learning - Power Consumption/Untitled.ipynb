{
 "cells": [
  {
   "cell_type": "code",
   "execution_count": null,
   "id": "0f3154f3",
   "metadata": {},
   "outputs": [],
   "source": [
    "# The data is taken from: https://www.kaggle.com/robikscube/hourly-energy-consumption. \n",
    "# The data is an hourly time series regarding the power consumption (in MW) in the Dayton region. \n",
    "# The data spans from 2004-10-01 to 2018-08-03 (n=121271)\n",
    "# PJM Hourly Energy Consumption Data\n",
    "# PJM Interconnection LLC (PJM) is a regional transmission organization (RTO) in the United States. \n",
    "# It is part of the Eastern Interconnection grid operating an electric transmission system serving all or \n",
    "# parts of Delaware, Illinois, Indiana, Kentucky, Maryland, Michigan, New Jersey, North Carolina, Ohio, Pennsylvania, Tennessee, Virginia, West Virginia, and the District of Columbia.\n",
    "# The hourly power consumption data comes from PJM's website and are in megawatts (MW).\n",
    "# The regions have changed over the years so data may only appear for certain dates per region.\n",
    "\n",
    "#The Dayton Power and Light Company estimated energy consumption in Megawatts (MW)"
   ]
  }
 ],
 "metadata": {
  "kernelspec": {
   "display_name": "Python 3 (ipykernel)",
   "language": "python",
   "name": "python3"
  },
  "language_info": {
   "codemirror_mode": {
    "name": "ipython",
    "version": 3
   },
   "file_extension": ".py",
   "mimetype": "text/x-python",
   "name": "python",
   "nbconvert_exporter": "python",
   "pygments_lexer": "ipython3",
   "version": "3.9.7"
  }
 },
 "nbformat": 4,
 "nbformat_minor": 5
}
