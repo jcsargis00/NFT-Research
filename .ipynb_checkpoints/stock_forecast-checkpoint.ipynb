{
 "cells": [
  {
   "cell_type": "code",
   "execution_count": 1,
   "id": "48ff2505",
   "metadata": {},
   "outputs": [
    {
     "ename": "ModuleNotFoundError",
     "evalue": "No module named 'yfinance'",
     "output_type": "error",
     "traceback": [
      "\u001b[1;31m---------------------------------------------------------------------------\u001b[0m",
      "\u001b[1;31mModuleNotFoundError\u001b[0m                       Traceback (most recent call last)",
      "\u001b[1;32m~\\AppData\\Local\\Temp\\ipykernel_12032\\3918248716.py\u001b[0m in \u001b[0;36m<module>\u001b[1;34m\u001b[0m\n\u001b[0;32m      1\u001b[0m \u001b[1;32mimport\u001b[0m \u001b[0mpandas\u001b[0m \u001b[1;32mas\u001b[0m \u001b[0mpd\u001b[0m\u001b[1;33m\u001b[0m\u001b[1;33m\u001b[0m\u001b[0m\n\u001b[0;32m      2\u001b[0m \u001b[1;32mimport\u001b[0m \u001b[0mnumpy\u001b[0m \u001b[1;32mas\u001b[0m \u001b[0mnp\u001b[0m\u001b[1;33m\u001b[0m\u001b[1;33m\u001b[0m\u001b[0m\n\u001b[1;32m----> 3\u001b[1;33m \u001b[1;32mimport\u001b[0m \u001b[0myfinance\u001b[0m \u001b[1;32mas\u001b[0m \u001b[0myf\u001b[0m\u001b[1;33m\u001b[0m\u001b[1;33m\u001b[0m\u001b[0m\n\u001b[0m\u001b[0;32m      4\u001b[0m \u001b[1;32mimport\u001b[0m \u001b[0mmatplotlib\u001b[0m\u001b[1;33m.\u001b[0m\u001b[0mpyplot\u001b[0m \u001b[1;32mas\u001b[0m \u001b[0mplt\u001b[0m\u001b[1;33m\u001b[0m\u001b[1;33m\u001b[0m\u001b[0m\n\u001b[0;32m      5\u001b[0m \u001b[1;32mimport\u001b[0m \u001b[0mplotly\u001b[0m\u001b[1;33m.\u001b[0m\u001b[0mgraph_objects\u001b[0m \u001b[1;32mas\u001b[0m \u001b[0mgo\u001b[0m\u001b[1;33m\u001b[0m\u001b[1;33m\u001b[0m\u001b[0m\n",
      "\u001b[1;31mModuleNotFoundError\u001b[0m: No module named 'yfinance'"
     ]
    }
   ],
   "source": [
    "import pandas as pd\n",
    "import numpy as np\n",
    "import yfinance as yf\n",
    "import matplotlib.pyplot as plt\n",
    "import plotly.graph_objects as go\n",
    "from datetime import date\n",
    "import math\n",
    "from sklearn.preprocessing import MinMaxScaler\n",
    "import tensorflow as tf\n",
    "from tensorflow import keras\n",
    "from tensorflow.keras import layers\n",
    "import joblib\n",
    "import pickle\n",
    "import plotly.graph_objects as go"
   ]
  },
  {
   "cell_type": "code",
   "execution_count": null,
   "id": "6e153767",
   "metadata": {},
   "outputs": [],
   "source": [
    "START = \"2010-01-01\"\n",
    "END = date.today().strftime(\"%Y-%m-%d\")"
   ]
  },
  {
   "cell_type": "code",
   "execution_count": 2,
   "id": "cbb9d80c",
   "metadata": {},
   "outputs": [],
   "source": [
    "def load_data(ticker):\n",
    "    data = yf.download(ticker,START,END)\n",
    "    data.reset_index(inplace=True)\n",
    "    return data"
   ]
  },
  {
   "cell_type": "code",
   "execution_count": 3,
   "id": "144f0f4f",
   "metadata": {},
   "outputs": [
    {
     "ename": "NameError",
     "evalue": "name 'yf' is not defined",
     "output_type": "error",
     "traceback": [
      "\u001b[1;31m---------------------------------------------------------------------------\u001b[0m",
      "\u001b[1;31mNameError\u001b[0m                                 Traceback (most recent call last)",
      "\u001b[1;32m~\\AppData\\Local\\Temp\\ipykernel_12032\\2683836600.py\u001b[0m in \u001b[0;36m<module>\u001b[1;34m\u001b[0m\n\u001b[1;32m----> 1\u001b[1;33m \u001b[0mdf\u001b[0m \u001b[1;33m=\u001b[0m \u001b[0mload_data\u001b[0m\u001b[1;33m(\u001b[0m\u001b[1;34m'AAPL'\u001b[0m\u001b[1;33m)\u001b[0m\u001b[1;33m\u001b[0m\u001b[1;33m\u001b[0m\u001b[0m\n\u001b[0m",
      "\u001b[1;32m~\\AppData\\Local\\Temp\\ipykernel_12032\\4040543307.py\u001b[0m in \u001b[0;36mload_data\u001b[1;34m(ticker)\u001b[0m\n\u001b[0;32m      1\u001b[0m \u001b[1;32mdef\u001b[0m \u001b[0mload_data\u001b[0m\u001b[1;33m(\u001b[0m\u001b[0mticker\u001b[0m\u001b[1;33m)\u001b[0m\u001b[1;33m:\u001b[0m\u001b[1;33m\u001b[0m\u001b[1;33m\u001b[0m\u001b[0m\n\u001b[1;32m----> 2\u001b[1;33m     \u001b[0mdata\u001b[0m \u001b[1;33m=\u001b[0m \u001b[0myf\u001b[0m\u001b[1;33m.\u001b[0m\u001b[0mdownload\u001b[0m\u001b[1;33m(\u001b[0m\u001b[0mticker\u001b[0m\u001b[1;33m,\u001b[0m\u001b[0mSTART\u001b[0m\u001b[1;33m,\u001b[0m\u001b[0mEND\u001b[0m\u001b[1;33m)\u001b[0m\u001b[1;33m\u001b[0m\u001b[1;33m\u001b[0m\u001b[0m\n\u001b[0m\u001b[0;32m      3\u001b[0m     \u001b[0mdata\u001b[0m\u001b[1;33m.\u001b[0m\u001b[0mreset_index\u001b[0m\u001b[1;33m(\u001b[0m\u001b[0minplace\u001b[0m\u001b[1;33m=\u001b[0m\u001b[1;32mTrue\u001b[0m\u001b[1;33m)\u001b[0m\u001b[1;33m\u001b[0m\u001b[1;33m\u001b[0m\u001b[0m\n\u001b[0;32m      4\u001b[0m     \u001b[1;32mreturn\u001b[0m \u001b[0mdata\u001b[0m\u001b[1;33m\u001b[0m\u001b[1;33m\u001b[0m\u001b[0m\n",
      "\u001b[1;31mNameError\u001b[0m: name 'yf' is not defined"
     ]
    }
   ],
   "source": [
    "df = load_data('AAPL')"
   ]
  },
  {
   "cell_type": "code",
   "execution_count": null,
   "id": "b892ccc0",
   "metadata": {},
   "outputs": [],
   "source": [
    "df = df.drop('Adj Close',axis=1)"
   ]
  },
  {
   "cell_type": "code",
   "execution_count": null,
   "id": "fdf2b354",
   "metadata": {},
   "outputs": [],
   "source": [
    "df_Close = df[['Close','Date']]"
   ]
  },
  {
   "cell_type": "code",
   "execution_count": null,
   "id": "90c6b29d",
   "metadata": {},
   "outputs": [],
   "source": [
    "df_Close.set_index('Date')"
   ]
  },
  {
   "cell_type": "code",
   "execution_count": null,
   "id": "0a479ef8",
   "metadata": {},
   "outputs": [],
   "source": [
    "df_open = df[['Open','Date']]"
   ]
  },
  {
   "cell_type": "code",
   "execution_count": null,
   "id": "0b8be271",
   "metadata": {},
   "outputs": [],
   "source": [
    "#Filter Close column insted of deleting it\n",
    "df_open = df_open.drop('Date',axis=1"
   ]
  },
  {
   "cell_type": "code",
   "execution_count": null,
   "id": "23077af7",
   "metadata": {},
   "outputs": [],
   "source": [
    "df_open.shape"
   ]
  },
  {
   "cell_type": "code",
   "execution_count": null,
   "id": "97bdc12e",
   "metadata": {},
   "outputs": [],
   "source": [
    "#Save values in an array\n",
    "df_open"
   ]
  },
  {
   "cell_type": "code",
   "execution_count": null,
   "id": "4929eb3d",
   "metadata": {},
   "outputs": [],
   "source": [
    "traindata_size = math.ceil(len(df_open)*.8)\n",
    "testdata_size = len(df_open) - traindata_size"
   ]
  },
  {
   "cell_type": "code",
   "execution_count": null,
   "id": "d9e175b5",
   "metadata": {},
   "outputs": [],
   "source": [
    "traindata_size"
   ]
  },
  {
   "cell_type": "code",
   "execution_count": null,
   "id": "1a716e37",
   "metadata": {},
   "outputs": [],
   "source": [
    "testdata_size"
   ]
  },
  {
   "cell_type": "code",
   "execution_count": null,
   "id": "e2276cba",
   "metadata": {},
   "outputs": [],
   "source": [
    "train = df_open[0:traindata_size]\n",
    "print(len(train))"
   ]
  },
  {
   "cell_type": "code",
   "execution_count": null,
   "id": "4db7b96c",
   "metadata": {},
   "outputs": [],
   "source": [
    "sc = MinMaxScaler(feature_range = (0,1))\n",
    "scaled_train = sc.fit_transform(train)"
   ]
  },
  {
   "cell_type": "code",
   "execution_count": null,
   "id": "a925c11c",
   "metadata": {},
   "outputs": [],
   "source": [
    "X_train = []\n",
    "y_train = []\n",
    "\n",
    "for i in range(60, len(scaled_train)):\n",
    "    X_train.append(scaled_train[i-60:i, 0])\n",
    "    y_train.append(scaled_train[i, 0])\n",
    "    \n",
    "\n",
    "X_train = np.array(X_train)\n",
    "y_train = np.array(y_train)"
   ]
  },
  {
   "cell_type": "code",
   "execution_count": null,
   "id": "0aec400e",
   "metadata": {},
   "outputs": [],
   "source": [
    "X_train = np.reshape(X_train, (X_train.shape[0],X_train.shape[1],1))"
   ]
  },
  {
   "cell_type": "code",
   "execution_count": null,
   "id": "2f17a44d",
   "metadata": {},
   "outputs": [],
   "source": [
    "model = keras.Sequential()\n",
    "\n",
    "model.add(layers.LSTM(units= 50, return_sequences = True, input_shape= (X_train.shape[1],1)))\n",
    "model.add(layers.Dropout(0.2))\n",
    "\n",
    "model.add(layers.LSTM(units= 50, return_sequences = True))\n",
    "model.add(layers.Dropout(0.2))\n",
    "\n",
    "model.add(layers.LSTM(units= 50, return_sequences = True))\n",
    "model.add(layers.Dropout(0.2))\n",
    "\n",
    "model.add(layers.LSTM(units= 25))\n",
    "model.add(layers.Dropout(0.2))\n",
    "\n",
    "model.add(layers.Dense(units = 1))"
   ]
  },
  {
   "cell_type": "code",
   "execution_count": null,
   "id": "1674d8d9",
   "metadata": {},
   "outputs": [],
   "source": [
    "model.compile(loss='mean_squared_error', optimizer='adam')"
   ]
  },
  {
   "cell_type": "code",
   "execution_count": null,
   "id": "2d2c9424",
   "metadata": {},
   "outputs": [],
   "source": [
    "\n",
    "model.fit(X_train,y_train, batch_size = 1, epochs = 5)"
   ]
  },
  {
   "cell_type": "code",
   "execution_count": null,
   "id": "4d7bccbf",
   "metadata": {},
   "outputs": [],
   "source": [
    "test = df_open[traindata_size - 60:]\n",
    "print(len(test))"
   ]
  },
  {
   "cell_type": "code",
   "execution_count": null,
   "id": "5b11009a",
   "metadata": {},
   "outputs": [],
   "source": [
    "scaled_test = sc.fit_transform(test)"
   ]
  },
  {
   "cell_type": "code",
   "execution_count": null,
   "id": "9112e2b9",
   "metadata": {},
   "outputs": [],
   "source": [
    "X_test = []\n",
    "y_test = df_open[traindata_size:]\n",
    "for i in range(60,len(scaled_test)):\n",
    "    X_test.append(scaled_test[i-60:i, 0])\n",
    "\n",
    "X_test = np.array(X_test)"
   ]
  },
  {
   "cell_type": "code",
   "execution_count": null,
   "id": "5146e893",
   "metadata": {},
   "outputs": [],
   "source": [
    "X_test = np.reshape(X_test,(X_test.shape[0],X_test.shape[1],1))"
   ]
  },
  {
   "cell_type": "code",
   "execution_count": null,
   "id": "b981f426",
   "metadata": {},
   "outputs": [],
   "source": [
    "\n",
    "pred = model.predict(X_test)rmse = np.sqrt(np.mean(predictions - y_test)**2)\n",
    "rmse\n",
    "predictions = sc.inverse_transform(pred)"
   ]
  },
  {
   "cell_type": "code",
   "execution_count": null,
   "id": "960c078e",
   "metadata": {},
   "outputs": [],
   "source": [
    "train = df_open[:traindata_size]\n",
    "valid = df_open[traindata_size:]\n",
    "valid['predictions'] = predictions\n",
    "plt.figure(figsize=(16,8))\n",
    "plt.title(\"Time series forecast with LSTM\")\n",
    "plt.xlabel(\"Days\")\n",
    "plt.ylabel(\"Closing price in USD($)\")\n",
    "plt.plot(train['Open'])\n",
    "plt.plot(valid[['Open','predictions']])\n",
    "plt.legend(['Train','Val','Predicted'],loc='lower right')\n",
    "plt.show()"
   ]
  },
  {
   "cell_type": "code",
   "execution_count": null,
   "id": "355841f9",
   "metadata": {},
   "outputs": [],
   "source": [
    "predictions[570]"
   ]
  },
  {
   "cell_type": "code",
   "execution_count": null,
   "id": "7f7f583f",
   "metadata": {},
   "outputs": [],
   "source": [
    "valid"
   ]
  },
  {
   "cell_type": "code",
   "execution_count": null,
   "id": "c8cdac92",
   "metadata": {},
   "outputs": [],
   "source": [
    "model.save('LSTM2.h5')"
   ]
  }
 ],
 "metadata": {
  "kernelspec": {
   "display_name": "Python 3 (ipykernel)",
   "language": "python",
   "name": "python3"
  },
  "language_info": {
   "codemirror_mode": {
    "name": "ipython",
    "version": 3
   },
   "file_extension": ".py",
   "mimetype": "text/x-python",
   "name": "python",
   "nbconvert_exporter": "python",
   "pygments_lexer": "ipython3",
   "version": "3.7.11"
  }
 },
 "nbformat": 4,
 "nbformat_minor": 5
}
